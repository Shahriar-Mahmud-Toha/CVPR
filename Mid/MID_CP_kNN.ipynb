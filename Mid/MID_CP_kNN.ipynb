{
  "nbformat": 4,
  "nbformat_minor": 0,
  "metadata": {
    "colab": {
      "provenance": []
    },
    "kernelspec": {
      "name": "python3",
      "display_name": "Python 3"
    },
    "language_info": {
      "name": "python"
    }
  },
  "cells": [
    {
      "cell_type": "code",
      "source": [
        "import os\n",
        "import cv2\n",
        "import matplotlib.pyplot as plt\n",
        "\n",
        "def load_grayscale_images_from_folder(folder_path):\n",
        "    image_dict = {}\n",
        "\n",
        "    # Loop through all files in the folder\n",
        "    for filename in os.listdir(folder_path):\n",
        "        if filename.endswith(('.jpg', '.jpeg', '.png', '.gif')):\n",
        "            label = os.path.splitext(filename)[0]\n",
        "\n",
        "            img = cv2.imread(os.path.join(folder_path, filename), cv2.IMREAD_GRAYSCALE)\n",
        "\n",
        "            # Display the grayscale image (optional)\n",
        "            # plt.imshow(img, cmap='gray')\n",
        "            # plt.title(label)\n",
        "            # plt.show()\n",
        "\n",
        "            # Store the grayscale image in the dictionary with the label as the key\n",
        "            image_dict[label] = img\n",
        "\n",
        "    return image_dict\n",
        "\n",
        "# Path to the folder containing your images\n",
        "folder_path = '/content/drive/MyDrive/CVPR/CIFAR-10-images-master/airplane'\n",
        "\n",
        "# Load grayscale images into a dictionary\n",
        "image_dict = load_grayscale_images_from_folder(folder_path)\n",
        "\n",
        "# Example: Accessing a grayscale image by label\n",
        "# label_to_retrieve = '0314'\n",
        "# if label_to_retrieve in image_dict:\n",
        "#     grayscale_image = image_dict[label_to_retrieve]\n",
        "#     plt.imshow(grayscale_image, cmap='gray')\n",
        "#     plt.title(label_to_retrieve)\n",
        "#     plt.show()\n",
        "# else:\n",
        "#     print(f\"Image with label '{label_to_retrieve}' not found.\")\n",
        "\n",
        "# You can access any grayscale image by its label using image_dict[label]\n"
      ],
      "metadata": {
        "id": "9HISdrSAHL8Y"
      },
      "execution_count": 11,
      "outputs": []
    }
  ]
}